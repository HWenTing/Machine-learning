{
 "cells": [
  {
   "cell_type": "code",
   "execution_count": 1,
   "metadata": {},
   "outputs": [],
   "source": [
    "import time\n",
    "import os\n",
    "import struct\n",
    "import numpy as np\n",
    "\n",
    "def load_mnist_train(path):\n",
    "    labels_path = os.path.join(path,'train-labels.idx1-ubyte')\n",
    "    images_path = os.path.join(path, 'train-images.idx3-ubyte')\n",
    "    with open(labels_path, 'rb') as lbpath:\n",
    "        magic, n = struct.unpack('>II',lbpath.read(8))\n",
    "        labels = np.fromfile(lbpath, dtype=np.uint8)\n",
    "    with open(images_path, 'rb') as imgpath:\n",
    "        magic, num, rows, cols = struct.unpack('>IIII',imgpath.read(16))\n",
    "        images = np.fromfile(imgpath, dtype=np.uint8).reshape(len(labels), 784)\n",
    "    return images, labels\n",
    "def load_mnist_test(path):\n",
    "    labels_path = os.path.join(path,'t10k-labels.idx1-ubyte')\n",
    "    images_path = os.path.join(path, 't10k-images.idx3-ubyte')\n",
    "    with open(labels_path, 'rb') as lbpath:\n",
    "        magic, n = struct.unpack('>II',lbpath.read(8))\n",
    "        labels = np.fromfile(lbpath, dtype=np.uint8)\n",
    "    with open(images_path, 'rb') as imgpath:\n",
    "        magic, num, rows, cols = struct.unpack('>IIII',imgpath.read(16))\n",
    "        images = np.fromfile(imgpath, dtype=np.uint8).reshape(len(labels), 784)\n",
    "    return images, labels\n",
    "X_train,Y_train = load_mnist_train('E:\\学习\\大三\\机器学习\\MNIST')\n",
    "X_test,Y_test = load_mnist_test('E:\\学习\\大三\\机器学习\\MNIST')"
   ]
  },
  {
   "cell_type": "markdown",
   "metadata": {},
   "source": [
    "### svm"
   ]
  },
  {
   "cell_type": "code",
   "execution_count": 2,
   "metadata": {},
   "outputs": [],
   "source": [
    "import sys\n",
    "path = 'D:\\LIBSVM\\libsvm-3.22\\python'\n",
    "sys.path.append(path)\n",
    "from svmutil import *\n",
    "from svm  import *\n",
    "\n",
    "y_train_svm = Y_train.tolist()\n",
    "x_train_svm=[]\n",
    "index = range(1,785)\n",
    "for i in X_train:\n",
    "    x_train_svm.append(dict(zip(index, i)))\n",
    "    \n",
    "y_test_svm = Y_test.tolist()\n",
    "x_test_svm=[]\n",
    "index = range(1,785)\n",
    "for i in X_test:\n",
    "    x_test_svm.append(dict(zip(index, i)))"
   ]
  },
  {
   "cell_type": "code",
   "execution_count": 3,
   "metadata": {},
   "outputs": [],
   "source": [
    "def test_svm(nums,typet):\n",
    "    prob  = svm_problem(y_train_svm[:nums], x_train_svm[:nums])\n",
    "    param = svm_parameter('-t %d -c 4 -m 1024'%typet)\n",
    "    model = svm_train(prob, param)\n",
    "    p_label, p_acc, p_val = svm_predict(y_test_svm, x_test_svm, model)\n",
    "    return p_acc[0],p_label"
   ]
  },
  {
   "cell_type": "code",
   "execution_count": 4,
   "metadata": {
    "scrolled": true
   },
   "outputs": [
    {
     "name": "stdout",
     "output_type": "stream",
     "text": [
      "Accuracy = 91.28% (9128/10000) (classification)\n"
     ]
    }
   ],
   "source": [
    "# 线性核\n",
    "acc_svm_liner,predict_svm_liner= test_svm(10000,0)\n",
    "acc_svm_liner = acc_svm_liner/100"
   ]
  },
  {
   "cell_type": "code",
   "execution_count": 5,
   "metadata": {
    "scrolled": true
   },
   "outputs": [
    {
     "name": "stdout",
     "output_type": "stream",
     "text": [
      "Accuracy = 95.77% (9577/10000) (classification)\n"
     ]
    }
   ],
   "source": [
    "# 多项式核\n",
    "acc_svm_polynomial,predict_svm_polynomial= test_svm(10000,1)\n",
    "acc_svm_polynomial = acc_svm_polynomial/100"
   ]
  },
  {
   "cell_type": "markdown",
   "metadata": {},
   "source": [
    "#### 贝叶斯"
   ]
  },
  {
   "cell_type": "code",
   "execution_count": 6,
   "metadata": {},
   "outputs": [],
   "source": [
    "# 高斯朴素贝叶斯\n",
    "from sklearn.naive_bayes import GaussianNB\n",
    "clf_g = GaussianNB()\n",
    "clf_g.fit(X_train,Y_train)\n",
    "predict_bayes_g = clf_g.predict(X_test)\n",
    "acc_bayes_g  =sum(predict_bayes_g == Y_test)/len(Y_test)"
   ]
  },
  {
   "cell_type": "code",
   "execution_count": 7,
   "metadata": {},
   "outputs": [],
   "source": [
    "# 伯努利朴素贝叶斯\n",
    "from sklearn.naive_bayes import BernoulliNB\n",
    "clf_b = BernoulliNB(alpha=2.0,binarize = 3.0,fit_prior=True)\n",
    "clf_b.fit(X_train,Y_train)\n",
    "predict_bayes_b = clf_b.predict(X_test)\n",
    "acc_bayes_b = sum(predict_bayes_b == Y_test)/len(Y_test)"
   ]
  },
  {
   "cell_type": "code",
   "execution_count": 8,
   "metadata": {},
   "outputs": [],
   "source": [
    "# 多项式朴素贝叶斯\n",
    "from sklearn.naive_bayes import MultinomialNB\n",
    "clf_m = MultinomialNB(alpha=2.0)\n",
    "clf_m.fit(X_train,Y_train)\n",
    "predict_bayes_m = clf_m.predict(X_test)\n",
    "acc_bayes_m =sum(predict_bayes_m == Y_test)/len(Y_test)"
   ]
  },
  {
   "cell_type": "markdown",
   "metadata": {},
   "source": [
    "### NN"
   ]
  },
  {
   "cell_type": "code",
   "execution_count": 9,
   "metadata": {},
   "outputs": [],
   "source": [
    "def tanh(x):\n",
    "    return (np.exp(x)-np.exp(-1*x))/(np.exp(x)+np.exp(-1*x))\n",
    "def dtanh(y):\n",
    "    return 1.0 - y*y\n",
    "\n",
    "class NN:\n",
    "    def __init__(self, ni, nh_li, no):\n",
    "        # 输入层、隐藏层列表、输出层\n",
    "        self.ni = ni \n",
    "        self.nh_li = nh_li\n",
    "        self.nh_len = len(nh_li)\n",
    "        self.no = no\n",
    "        self.w = []#输入层到第一层隐含层，。。。，最后一层隐含层到输出层 总长度为 nh_len+1\n",
    "        \n",
    "        self.w.append(np.random.normal(0.0, pow(self.nh_li[0],-0.5), (self.nh_li[0],self.ni)))\n",
    "        for i in range(self.nh_len-1):\n",
    "            self.w.append(np.random.normal(0.0, pow(self.nh_li[i+1],-0.5), (self.nh_li[i+1],self.nh_li[i])))\n",
    "        self.w.append(np.random.normal(0.0, pow(self.no,-0.5), (self.no,self.nh_li[self.nh_len-1])))\n",
    "        \n",
    "    def oneRound(self, inputs,targets,N):\n",
    "        targets = np.array(targets,ndmin=2).T\n",
    "        # 激活输入层\n",
    "        inputs = np.array(inputs,ndmin=2).T/255\n",
    "        # 隐含层输出\n",
    "\n",
    "        outputs = []# 输入层到第一个隐含层，。。。，最后一个隐含层到输出层  总长度为 nh_len+1\n",
    "        outputs.append(tanh(np.dot(self.w[0],inputs)))\n",
    "        for i in range(self.nh_len-1):\n",
    "            outputs.append(tanh(np.dot(self.w[i+1],outputs[i])))\n",
    "        # 输出层输出\n",
    "        outputs.append(tanh(np.dot(self.w[self.nh_len], outputs[self.nh_len-1])))\n",
    "        \n",
    "        \n",
    "        deltas = []#输出层，最后一个隐含层 。。。 第一个隐含层  总长度为 nh_len+1\n",
    "        #计算输出层的误差\n",
    "        output_deltas = dtanh(outputs[self.nh_len])*(targets - outputs[self.nh_len])\n",
    "        deltas.append(output_deltas)\n",
    "        for i in range(self.nh_len):\n",
    "            deltas.append(dtanh(outputs[self.nh_len-1-i])* np.dot(self.w[self.nh_len-i].T, deltas[i]))\n",
    "\n",
    "            \n",
    "        for i in range(self.nh_len):\n",
    "            self.w[self.nh_len-i] += N*np.dot(deltas[i], np.transpose(outputs[self.nh_len-i-1]))\n",
    "        self.w[0] += N*np.dot(deltas[self.nh_len], np.transpose(inputs))\n",
    "   \n",
    "        return outputs[self.nh_len]\n",
    "  \n",
    "    def test(self, inputs_list,Y):\n",
    "        ans_lis=[]\n",
    "        le = len(Y)\n",
    "        ans = 0\n",
    "        for i in range(le):\n",
    "            inputs = np.array(inputs_list[i],ndmin=2).T/255\n",
    "            outputs = []# 输入层到第一个隐含层，。。。，最后一个隐含层到输出层  总长度为 nh_len+1\n",
    "            outputs.append(tanh(np.dot(self.w[0],inputs)))\n",
    "            for j in range(self.nh_len-1):\n",
    "                outputs.append(tanh(np.dot(self.w[j+1],outputs[j])))\n",
    "            # 输出层输出\n",
    "            outputs.append(tanh(np.dot(self.w[self.nh_len], outputs[self.nh_len-1])))\n",
    "            if np.argmax(outputs[self.nh_len])==Y[i]:\n",
    "                ans+=1\n",
    "            ans_lis.append(np.argmax(outputs[self.nh_len]))\n",
    "        print('准确率',ans/le)\n",
    "        return ans/le,ans_lis \n",
    "\n",
    "    def weights(self):\n",
    "        return self.w\n",
    "\n",
    "    def train(self, X, Y,iterations=1, N=0.01):\n",
    "        len_total = len(Y)\n",
    "        for i in range(iterations):\n",
    "            for p in range(len_total):              \n",
    "                inputs = X[p]\n",
    "                target = Y[p]\n",
    "                targets = trans(target)\n",
    "                self.oneRound(inputs,targets,N)  \n",
    "def trans(li):\n",
    "    re_list =[0.0]*10\n",
    "    re_list[li]=1\n",
    "    return re_list"
   ]
  },
  {
   "cell_type": "code",
   "execution_count": 10,
   "metadata": {},
   "outputs": [
    {
     "name": "stdout",
     "output_type": "stream",
     "text": [
      "准确率 0.9479\n"
     ]
    }
   ],
   "source": [
    "# 三层\n",
    "num=60000\n",
    "n = NN(784, [89], 10)\n",
    "n.train(X_train[:num],Y_train[:num],iterations=10)\n",
    "acc_nn_3 ,predict_nn_3 = n.test(X_test,Y_test)"
   ]
  },
  {
   "cell_type": "code",
   "execution_count": 11,
   "metadata": {},
   "outputs": [
    {
     "name": "stdout",
     "output_type": "stream",
     "text": [
      "准确率 0.9699\n"
     ]
    }
   ],
   "source": [
    "# 四层\n",
    "num=60000\n",
    "n = NN(784, [89,50], 10)\n",
    "n.train(X_train[:num],Y_train[:num],iterations=10)\n",
    "acc_nn_4 ,predict_nn_4 = n.test(X_test,Y_test)"
   ]
  },
  {
   "cell_type": "markdown",
   "metadata": {},
   "source": [
    "### KNN"
   ]
  },
  {
   "cell_type": "code",
   "execution_count": 14,
   "metadata": {},
   "outputs": [],
   "source": [
    "from sklearn.neighbors import KNeighborsClassifier"
   ]
  },
  {
   "cell_type": "code",
   "execution_count": 15,
   "metadata": {},
   "outputs": [],
   "source": [
    "kNN_classifier_3= KNeighborsClassifier(n_neighbors=3)\n",
    "kNN_classifier_3.fit(X_train, Y_train)\n",
    "predict_knn_3 = kNN_classifier_3.predict(X_test)\n",
    "acc_knn_3=sum(predict_knn_3 == Y_test)/len(Y_test)"
   ]
  },
  {
   "cell_type": "code",
   "execution_count": 16,
   "metadata": {},
   "outputs": [],
   "source": [
    "kNN_classifier_4= KNeighborsClassifier(n_neighbors=4)\n",
    "kNN_classifier_4.fit(X_train, Y_train)\n",
    "predict_knn_4 = kNN_classifier_4.predict(X_test)\n",
    "acc_knn_4 =sum(predict_knn_4 == Y_test)/len(Y_test)"
   ]
  },
  {
   "cell_type": "markdown",
   "metadata": {},
   "source": [
    "#### 集成"
   ]
  },
  {
   "cell_type": "code",
   "execution_count": 63,
   "metadata": {},
   "outputs": [
    {
     "data": {
      "text/plain": [
       "0.9642"
      ]
     },
     "execution_count": 63,
     "metadata": {},
     "output_type": "execute_result"
    }
   ],
   "source": [
    "ans = []\n",
    "for i in range(10000):\n",
    "    lab=[0]*10\n",
    "    lab[int(predict_svm_liner[i])]+=1#0.9128\n",
    "    lab[int(predict_svm_polynomial[i])]+=1#0.9577\n",
    "    lab[predict_bayes_g[i]]+=1#0.5558\n",
    "    lab[predict_bayes_b[i]]+=1#0.8423\n",
    "    lab[predict_bayes_m[i]]+=1#0.8364\n",
    "    lab[predict_knn_3[i]]+=1#0.9705\n",
    "    lab[predict_knn_4[i]]+=1#0.9682\n",
    "    lab[predict_nn_3[i]]+=1#  0.9479\n",
    "    lab[predict_nn_4[i]]+=1#0.9696\n",
    "    ans.append(lab.index(max(lab)))    \n",
    "sum(ans == Y_test)/len(Y_test)"
   ]
  },
  {
   "cell_type": "code",
   "execution_count": 96,
   "metadata": {},
   "outputs": [
    {
     "data": {
      "text/plain": [
       "0.9739"
      ]
     },
     "execution_count": 96,
     "metadata": {},
     "output_type": "execute_result"
    }
   ],
   "source": [
    "ans = []\n",
    "for i in range(10000):\n",
    "    lab=[0]*10\n",
    "    lab[int(predict_svm_liner[i])]+=acc_svm_liner\n",
    "    lab[int(predict_svm_polynomial[i])]+=acc_svm_polynomial\n",
    "#     lab[predict_bayes_g[i]]+=acc_bayes_g\n",
    "#     lab[predict_bayes_b[i]]+=acc_bayes_b\n",
    "#     lab[predict_bayes_m[i]]+=acc_bayes_m\n",
    "    lab[predict_knn_3[i]]+=acc_knn_3\n",
    "    lab[predict_knn_4[i]]+=acc_knn_4\n",
    "    lab[predict_nn_3[i]]+=acc_nn_3\n",
    "    lab[predict_nn_4[i]]+=acc_nn_4\n",
    "    ans.append(lab.index(max(lab)))\n",
    "sum(ans == Y_test)/len(Y_test)"
   ]
  },
  {
   "cell_type": "code",
   "execution_count": 53,
   "metadata": {},
   "outputs": [
    {
     "name": "stdout",
     "output_type": "stream",
     "text": [
      "0.9128000000000001\n",
      "0.9577\n",
      "0.5558\n",
      "0.8423\n",
      "0.8364\n",
      "0.9705\n",
      "0.9682\n",
      "0.9479\n",
      "0.9699\n"
     ]
    }
   ],
   "source": [
    "print(acc_svm_liner)\n",
    "print(acc_svm_polynomial)\n",
    "print(acc_bayes_g)\n",
    "print(acc_bayes_b)\n",
    "print(acc_bayes_m)\n",
    "print(acc_knn_3)\n",
    "print(acc_knn_4)\n",
    "print(acc_nn_3)\n",
    "print(acc_nn_4)"
   ]
  },
  {
   "cell_type": "code",
   "execution_count": 64,
   "metadata": {},
   "outputs": [
    {
     "data": {
      "text/plain": [
       "0.9666"
      ]
     },
     "execution_count": 64,
     "metadata": {},
     "output_type": "execute_result"
    }
   ],
   "source": [
    "ans = []\n",
    "max_val=[]\n",
    "for i in range(10000):\n",
    "    lab=[0]*10\n",
    "    lab[int(predict_svm_liner[i])]+=acc_svm_liner\n",
    "    lab[int(predict_svm_polynomial[i])]+=acc_svm_polynomial\n",
    "    lab[predict_bayes_g[i]]+=acc_bayes_g\n",
    "    lab[predict_bayes_b[i]]+=acc_bayes_b\n",
    "    lab[predict_bayes_m[i]]+=acc_bayes_m\n",
    "    lab[predict_knn_3[i]]+=acc_knn_3\n",
    "    lab[predict_knn_4[i]]+=acc_knn_4\n",
    "    lab[predict_nn_3[i]]+=acc_nn_3\n",
    "    lab[predict_nn_4[i]]+=acc_nn_4\n",
    "    max_val.append(max(lab))\n",
    "    ans.append(lab.index(max(lab)))\n",
    "sum(ans == Y_test)/len(Y_test)"
   ]
  },
  {
   "cell_type": "code",
   "execution_count": 93,
   "metadata": {},
   "outputs": [
    {
     "data": {
      "text/plain": [
       "0.967"
      ]
     },
     "execution_count": 93,
     "metadata": {},
     "output_type": "execute_result"
    }
   ],
   "source": [
    "ans = []\n",
    "max_val=[]\n",
    "for i in range(10000):\n",
    "    lab=[0]*10\n",
    "    lab[int(predict_svm_liner[i])]+=1#0.9128\n",
    "    lab[int(predict_svm_polynomial[i])]+=1#0.9577\n",
    "    lab[predict_bayes_g[i]]+=1#0.5558\n",
    "    lab[predict_bayes_b[i]]+=1#0.8423\n",
    "    lab[predict_bayes_m[i]]+=1#0.8364\n",
    "    lab[predict_knn_3[i]]+=1#0.9705\n",
    "    lab[predict_knn_4[i]]+=1#0.9682\n",
    "    lab[predict_nn_3[i]]+=1#  0.9479\n",
    "    lab[predict_nn_4[i]]+=1#0.9696\n",
    "    ans.append(lab.index(max(lab)))    \n",
    "    max_val.append(max(lab))\n",
    "sum(ans == Y_test)/len(Y_test)"
   ]
  },
  {
   "cell_type": "code",
   "execution_count": 95,
   "metadata": {},
   "outputs": [
    {
     "name": "stdout",
     "output_type": "stream",
     "text": [
      "0.9966455941168881\n"
     ]
    }
   ],
   "source": [
    "anss = 0\n",
    "ansst = 0\n",
    "for i in range(10000):\n",
    "    if max_val[i] >=5:\n",
    "        ansst+=1\n",
    "        if ans[i] == Y_test[i]:\n",
    "            anss+=1\n",
    "print(anss/ansst)"
   ]
  },
  {
   "cell_type": "code",
   "execution_count": null,
   "metadata": {},
   "outputs": [],
   "source": []
  }
 ],
 "metadata": {
  "kernelspec": {
   "display_name": "Python 3",
   "language": "python",
   "name": "python3"
  },
  "language_info": {
   "codemirror_mode": {
    "name": "ipython",
    "version": 3
   },
   "file_extension": ".py",
   "mimetype": "text/x-python",
   "name": "python",
   "nbconvert_exporter": "python",
   "pygments_lexer": "ipython3",
   "version": "3.6.4"
  }
 },
 "nbformat": 4,
 "nbformat_minor": 2
}
