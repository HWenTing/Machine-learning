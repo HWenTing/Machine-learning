{
 "cells": [
  {
   "cell_type": "code",
   "execution_count": 6,
   "metadata": {},
   "outputs": [],
   "source": [
    "import math\n",
    "import numpy as np\n",
    "import random\n",
    "random.seed(0)"
   ]
  },
  {
   "cell_type": "code",
   "execution_count": 7,
   "metadata": {},
   "outputs": [],
   "source": [
    "# 加载数据\n",
    "import os\n",
    "import struct\n",
    "\n",
    "def load_mnist_train(path):\n",
    "    labels_path = os.path.join(path,'train-labels.idx1-ubyte')\n",
    "    images_path = os.path.join(path, 'train-images.idx3-ubyte')\n",
    "    with open(labels_path, 'rb') as lbpath:\n",
    "        magic, n = struct.unpack('>II',lbpath.read(8))\n",
    "        labels = np.fromfile(lbpath, dtype=np.uint8)\n",
    "    with open(images_path, 'rb') as imgpath:\n",
    "        magic, num, rows, cols = struct.unpack('>IIII',imgpath.read(16))\n",
    "        images = np.fromfile(imgpath, dtype=np.uint8).reshape(len(labels), 784)\n",
    "    return images, labels\n",
    "def load_mnist_test(path):\n",
    "    labels_path = os.path.join(path,'t10k-labels.idx1-ubyte')\n",
    "    images_path = os.path.join(path, 't10k-images.idx3-ubyte')\n",
    "    with open(labels_path, 'rb') as lbpath:\n",
    "        magic, n = struct.unpack('>II',lbpath.read(8))\n",
    "        labels = np.fromfile(lbpath, dtype=np.uint8)\n",
    "    with open(images_path, 'rb') as imgpath:\n",
    "        magic, num, rows, cols = struct.unpack('>IIII',imgpath.read(16))\n",
    "        images = np.fromfile(imgpath, dtype=np.uint8).reshape(len(labels), 784)\n",
    "    return images, labels\n",
    "X_train,Y_train = load_mnist_train('E:\\学习\\大三\\机器学习\\MNIST')\n",
    "X_test,Y_test = load_mnist_test('E:\\学习\\大三\\机器学习\\MNIST')"
   ]
  },
  {
   "cell_type": "code",
   "execution_count": 8,
   "metadata": {},
   "outputs": [],
   "source": [
    "def tanh(x):\n",
    "    return (np.exp(x)-np.exp(-1*x))/(np.exp(x)+np.exp(-1*x))\n",
    "def dtanh(y):\n",
    "    return 1.0 - y*y\n",
    "\n",
    "class NN:\n",
    "    def __init__(self, ni, nh_li, no):\n",
    "        # 输入层、隐藏层列表、输出层\n",
    "        self.ni = ni \n",
    "        self.nh_li = nh_li\n",
    "        self.nh_len = len(nh_li)\n",
    "        self.no = no\n",
    "        self.w = []#输入层到第一层隐含层，。。。，最后一层隐含层到输出层 总长度为 nh_len+1\n",
    "        \n",
    "        self.w.append(np.random.normal(0.0, pow(self.nh_li[0],-0.5), (self.nh_li[0],self.ni)))\n",
    "        for i in range(self.nh_len-1):\n",
    "            self.w.append(np.random.normal(0.0, pow(self.nh_li[i+1],-0.5), (self.nh_li[i+1],self.nh_li[i])))\n",
    "        self.w.append(np.random.normal(0.0, pow(self.no,-0.5), (self.no,self.nh_li[self.nh_len-1])))\n",
    "        \n",
    "    def oneRound(self, inputs,targets,N):\n",
    "        targets = np.array(targets,ndmin=2).T\n",
    "        # 激活输入层\n",
    "        inputs = np.array(inputs,ndmin=2).T/255\n",
    "        # 隐含层输出\n",
    "\n",
    "        outputs = []# 输入层到第一个隐含层，。。。，最后一个隐含层到输出层  总长度为 nh_len+1\n",
    "        outputs.append(tanh(np.dot(self.w[0],inputs)))\n",
    "        for i in range(self.nh_len-1):\n",
    "            outputs.append(tanh(np.dot(self.w[i+1],outputs[i])))\n",
    "        # 输出层输出\n",
    "        outputs.append(tanh(np.dot(self.w[self.nh_len], outputs[self.nh_len-1])))\n",
    "        \n",
    "        \n",
    "        deltas = []#输出层，最后一个隐含层 。。。 第一个隐含层  总长度为 nh_len+1\n",
    "        #计算输出层的误差\n",
    "        output_deltas = dtanh(outputs[self.nh_len])*(targets - outputs[self.nh_len])\n",
    "        deltas.append(output_deltas)\n",
    "        for i in range(self.nh_len):\n",
    "            deltas.append(dtanh(outputs[self.nh_len-1-i])* np.dot(self.w[self.nh_len-i].T, deltas[i]))\n",
    "\n",
    "            \n",
    "        for i in range(self.nh_len):\n",
    "            self.w[self.nh_len-i] += N*np.dot(deltas[i], np.transpose(outputs[self.nh_len-i-1]))\n",
    "        self.w[0] += N*np.dot(deltas[self.nh_len], np.transpose(inputs))\n",
    "   \n",
    "        return outputs[self.nh_len]\n",
    "  \n",
    "    def test(self, inputs_list,Y):\n",
    "        le = len(Y)\n",
    "        ans = 0\n",
    "        for i in range(le):\n",
    "            inputs = np.array(inputs_list[i],ndmin=2).T/255\n",
    "            outputs = []# 输入层到第一个隐含层，。。。，最后一个隐含层到输出层  总长度为 nh_len+1\n",
    "            outputs.append(tanh(np.dot(self.w[0],inputs)))\n",
    "            for j in range(self.nh_len-1):\n",
    "                outputs.append(tanh(np.dot(self.w[j+1],outputs[j])))\n",
    "            # 输出层输出\n",
    "            outputs.append(tanh(np.dot(self.w[self.nh_len], outputs[self.nh_len-1])))\n",
    "            if np.argmax(outputs[self.nh_len])==Y[i]:\n",
    "                ans+=1\n",
    "        print('准确率',ans/le)\n",
    "        return ans/le    \n",
    "\n",
    "    def weights(self):\n",
    "        return self.w\n",
    "\n",
    "    def train(self, X, Y,iterations=100, N=0.01):\n",
    "        len_total = len(Y)\n",
    "        for i in range(iterations):\n",
    "            print(\"第\",i,\"轮\")\n",
    "            for p in range(len_total):              \n",
    "                inputs = X[p]\n",
    "                target = Y[p]\n",
    "                targets = trans(target)\n",
    "                self.oneRound(inputs,targets,N)\n",
    "\n",
    "    \n",
    "    \n",
    "def trans(li):\n",
    "    re_list =[0.0]*10\n",
    "    re_list[li]=1\n",
    "    return re_list\n",
    "                "
   ]
  },
  {
   "cell_type": "code",
   "execution_count": 9,
   "metadata": {
    "scrolled": true
   },
   "outputs": [
    {
     "name": "stdout",
     "output_type": "stream",
     "text": [
      "第 0 轮\n",
      "第 1 轮\n",
      "第 2 轮\n",
      "第 3 轮\n",
      "第 4 轮\n",
      "第 5 轮\n",
      "第 6 轮\n",
      "第 7 轮\n",
      "第 8 轮\n",
      "第 9 轮\n",
      "准确率 0.9686\n"
     ]
    },
    {
     "data": {
      "text/plain": [
       "0.9686"
      ]
     },
     "execution_count": 9,
     "metadata": {},
     "output_type": "execute_result"
    }
   ],
   "source": [
    "num=60000\n",
    "n = NN(784, [100,40], 10)\n",
    "accuracy_rate_2 = n.train(X_train[:num],Y_train[:num],iterations=10)\n",
    "n.test(X_test,Y_test)"
   ]
  },
  {
   "cell_type": "code",
   "execution_count": 10,
   "metadata": {
    "scrolled": true
   },
   "outputs": [],
   "source": [
    "num=60000\n",
    "n = NN(784, [100,50,20], 10)\n",
    "accuracy_rate = n.train(X_train[:num],Y_train[:num],iterations=200)\n"
   ]
  }
 ],
 "metadata": {
  "kernelspec": {
   "display_name": "Python 3",
   "language": "python",
   "name": "python3"
  },
  "language_info": {
   "codemirror_mode": {
    "name": "ipython",
    "version": 3
   },
   "file_extension": ".py",
   "mimetype": "text/x-python",
   "name": "python",
   "nbconvert_exporter": "python",
   "pygments_lexer": "ipython3",
   "version": "3.6.4"
  }
 },
 "nbformat": 4,
 "nbformat_minor": 2
}
