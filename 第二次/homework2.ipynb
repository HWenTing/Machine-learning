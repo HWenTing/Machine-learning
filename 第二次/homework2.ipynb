{
 "cells": [
  {
   "cell_type": "code",
   "execution_count": 1,
   "metadata": {},
   "outputs": [],
   "source": [
    "import numpy as np #矩阵运算"
   ]
  },
  {
   "cell_type": "code",
   "execution_count": 2,
   "metadata": {},
   "outputs": [],
   "source": [
    "\n",
    "lists1=np.array([[0.42,-0.087,0.58],\n",
    "                 [-0.2,-3.3,-3.4],\n",
    "                 [1.3,-0.32,1.7],\n",
    "                 [0.39,0.71,0.23],\n",
    "                 [-1.6,-5.3,-0.15],\n",
    "                 [-0.029,0.89,-4.7],\n",
    "                 [-0.23,1.9,2.2],\n",
    "                 [0.27,-0.3,-0.87],\n",
    "                 [-1.9,0.76,-2.1],\n",
    "                 [0.87,-1.0,-2.6]])\n",
    "\n",
    "lists2=np.array([[-0.4,0.58,0.089],\n",
    "                 [-0.31,0.27,-0.04],\n",
    "                 [0.38,0.055,-0.035],\n",
    "                 [-0.15,0.53,0.011],\n",
    "                 [-0.35,0.47,0.034],\n",
    "                 [0.17,0.69,0.1],\n",
    "                 [-0.011,0.55,-0.18],\n",
    "                 [-0.27,0.61,0.12],\n",
    "                 [-0.065,0.49,0.0012],\n",
    "                 [-0.12,0.054,-0.063]])\n",
    "\n",
    "# lists3=np.array([[0.83,1.6,-0.014],\n",
    "#                  [1.1,1.6,0.48],\n",
    "#                  [-0.44,-0.41,0.32],\n",
    "#                  [0.047,-0.45,1.4],\n",
    "#                  [0.28,0.35,3.1],\n",
    "#                  [-0.39,-0.48,0.11],\n",
    "#                  [0.34,-0.079,0.14],\n",
    "#                  [-0.3,-0.22,2.2],\n",
    "#                  [1.1,1.2,-0.46],\n",
    "#                  [0.18,-0.11,-0.49]])\n",
    "# list_group = [lists1,lists2,lists3]"
   ]
  },
  {
   "cell_type": "markdown",
   "metadata": {},
   "source": [
    "#### 一维"
   ]
  },
  {
   "cell_type": "code",
   "execution_count": 5,
   "metadata": {},
   "outputs": [],
   "source": [
    "def getMean1(points):\n",
    "    return np.mean(points)\n",
    "def getVar1(points):\n",
    "    u = getMean1(points)\n",
    "    n = len(points)\n",
    "    re = 0\n",
    "    for i in points:\n",
    "        re = re + (i-u)**2\n",
    "    return re/n"
   ]
  },
  {
   "cell_type": "code",
   "execution_count": 14,
   "metadata": {},
   "outputs": [
    {
     "name": "stdout",
     "output_type": "stream",
     "text": [
      "特征x 1 的均值μ的最大似然估计为  -0.07090000\n",
      "特征x 1 的方差σ^2的最大似然估计为    0.90617729\n",
      "特征x 2 的均值μ的最大似然估计为  -0.60470000\n",
      "特征x 2 的方差σ^2的最大似然估计为    4.20071481\n",
      "特征x 3 的均值μ的最大似然估计为  -0.91100000\n",
      "特征x 3 的方差σ^2的最大似然估计为    4.54194900\n"
     ]
    }
   ],
   "source": [
    "for i in range(3):\n",
    "    print(\"特征x\",i+1,\"的均值μ的最大似然估计为 \",'%.8f' % getMean1(lists1[:,i]))\n",
    "    print(\"特征x\",i+1,\"的方差σ^2的最大似然估计为   \",'%.8f' % getVar1(lists1[:,i]))"
   ]
  },
  {
   "cell_type": "code",
   "execution_count": 8,
   "metadata": {},
   "outputs": [],
   "source": [
    "#均值的最大似然估计为全体样本的平均值\n",
    "def getMean(points):\n",
    "#     输入为矩阵 求列均值 10x3\n",
    "    return np.mean(points,0)\n",
    "def getVar(points):\n",
    "    u = getMean(points)\n",
    "    n,d = points.shape\n",
    "    re_matrix=np.zeros([d,d])\n",
    "    for i in points:\n",
    "        temp = np.matrix(i)-u\n",
    "        re_matrix = re_matrix + np.dot(temp.T,temp)\n",
    "    return re_matrix/n"
   ]
  },
  {
   "cell_type": "markdown",
   "metadata": {},
   "source": [
    "#### 二维"
   ]
  },
  {
   "cell_type": "code",
   "execution_count": 13,
   "metadata": {},
   "outputs": [
    {
     "name": "stdout",
     "output_type": "stream",
     "text": [
      "特征x1,x2 的均值μ的最大似然估计为 \n",
      " [-0.0709 -0.6047]\n",
      "特征x1,x2 的协方差矩阵σ^2的最大似然估计为 \n",
      " [[0.90617729 0.56778177]\n",
      " [0.56778177 4.20071481]]\n",
      "特征x1,x3 的均值μ的最大似然估计为 \n",
      " [-0.0709 -0.911 ]\n",
      "特征x1,x3 的协方差矩阵σ^2的最大似然估计为 \n",
      " [[0.90617729 0.3940801 ]\n",
      " [0.3940801  4.541949  ]]\n",
      "特征x2,x3 的均值μ的最大似然估计为 \n",
      " [-0.6047 -0.911 ]\n",
      "特征x2,x3 的协方差矩阵σ^2的最大似然估计为 \n",
      " [[4.20071481 0.7337023 ]\n",
      " [0.7337023  4.541949  ]]\n"
     ]
    }
   ],
   "source": [
    "print(\"特征x1,x2 的均值μ的最大似然估计为 \\n\", \n",
    "      getMean(lists1[:,[0,1]]))\n",
    "print(\"特征x1,x2 的协方差矩阵σ^2的最大似然估计为 \\n\", getVar(lists1[:,[0,1]]))\n",
    "print(\"特征x1,x3 的均值μ的最大似然估计为 \\n\", getMean(lists1[:,[0,2]]))\n",
    "print(\"特征x1,x3 的协方差矩阵σ^2的最大似然估计为 \\n\", getVar(lists1[:,[0,2]]))\n",
    "print(\"特征x2,x3 的均值μ的最大似然估计为 \\n\", getMean(lists1[:,[1,2]]))\n",
    "print(\"特征x2,x3 的协方差矩阵σ^2的最大似然估计为 \\n\", getVar(lists1[:,[1,2]]))"
   ]
  },
  {
   "cell_type": "markdown",
   "metadata": {},
   "source": [
    "#### 三维"
   ]
  },
  {
   "cell_type": "code",
   "execution_count": 15,
   "metadata": {},
   "outputs": [
    {
     "name": "stdout",
     "output_type": "stream",
     "text": [
      "w1的均值的最大似然估计为\n",
      "[-0.0709 -0.6047 -0.911 ]\n",
      "w1协方差矩阵的最大似然估计为\n",
      "[[0.90617729 0.56778177 0.3940801 ]\n",
      " [0.56778177 4.20071481 0.7337023 ]\n",
      " [0.3940801  0.7337023  4.541949  ]]\n"
     ]
    }
   ],
   "source": [
    "print(\"w1的均值的最大似然估计为\")\n",
    "print(getMean(lists1))\n",
    "print(\"w1协方差矩阵的最大似然估计为\")\n",
    "print(getVar(lists1))"
   ]
  },
  {
   "cell_type": "markdown",
   "metadata": {},
   "source": [
    "#### d"
   ]
  },
  {
   "cell_type": "code",
   "execution_count": 18,
   "metadata": {},
   "outputs": [
    {
     "name": "stdout",
     "output_type": "stream",
     "text": [
      "w1的均值的最大似然估计为\n",
      "[-0.1126   0.4299   0.00372]\n",
      "特征x 1 的均值μ的最大似然估计为  0.05392584\n",
      "特征x 2 的均值μ的最大似然估计为  0.04597009\n",
      "特征x 3 的均值μ的最大似然估计为  0.00726551\n"
     ]
    }
   ],
   "source": [
    "\n",
    "print(\"w1的均值的最大似然估计为\")\n",
    "print(getMean(lists2))\n",
    "for i in range(3):\n",
    "    print(\"特征x\",i+1,\"的均值μ的最大似然估计为 \",'%.8f' % getVar1(lists2[:,i]))\n"
   ]
  },
  {
   "cell_type": "code",
   "execution_count": null,
   "metadata": {},
   "outputs": [],
   "source": []
  },
  {
   "cell_type": "code",
   "execution_count": null,
   "metadata": {},
   "outputs": [],
   "source": []
  }
 ],
 "metadata": {
  "kernelspec": {
   "display_name": "Python 3",
   "language": "python",
   "name": "python3"
  },
  "language_info": {
   "codemirror_mode": {
    "name": "ipython",
    "version": 3
   },
   "file_extension": ".py",
   "mimetype": "text/x-python",
   "name": "python",
   "nbconvert_exporter": "python",
   "pygments_lexer": "ipython3",
   "version": "3.6.4"
  }
 },
 "nbformat": 4,
 "nbformat_minor": 2
}
